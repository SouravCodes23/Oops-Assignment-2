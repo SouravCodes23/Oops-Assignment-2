{
 "cells": [
  {
   "cell_type": "markdown",
   "id": "8d9647a0-8030-4030-b5bb-fc6b02d93d6a",
   "metadata": {},
   "source": [
    "Q1. What is Abstraction in OOps? Explain with an example."
   ]
  },
  {
   "cell_type": "markdown",
   "id": "1d185aa4-93b0-43ca-aa8d-ceca733078b8",
   "metadata": {},
   "source": [
    "Abstraction in object-oriented programming  is the concept of hiding the complex implementation details and showing only the necessary\n",
    "features of an object to the outside world.It allows us to focus on what an object does rather than how it achieves it."
   ]
  },
  {
   "cell_type": "code",
   "execution_count": 1,
   "id": "27cbf7a5-e22e-45eb-acb2-986947091158",
   "metadata": {},
   "outputs": [
    {
     "name": "stdout",
     "output_type": "stream",
     "text": [
      "Buddy says: Woof!\n",
      "Whiskers says: Meow!\n"
     ]
    }
   ],
   "source": [
    "from abc import ABC, abstractmethod\n",
    "\n",
    "class Animal(ABC):\n",
    "    def __init__(self, name):\n",
    "        self.name = name\n",
    "    \n",
    "    @abstractmethod\n",
    "    def sound(self):\n",
    "        pass\n",
    "\n",
    "class Dog(Animal):\n",
    "    def sound(self):\n",
    "        return \"Woof!\"\n",
    "\n",
    "class Cat(Animal):\n",
    "    def sound(self):\n",
    "        return \"Meow!\"\n",
    "\n",
    "dog = Dog(\"Buddy\")\n",
    "print(dog.name + \" says:\", dog.sound())\n",
    "\n",
    "cat = Cat(\"Whiskers\")\n",
    "print(cat.name + \" says:\", cat.sound())\n"
   ]
  },
  {
   "cell_type": "markdown",
   "id": "457c0625-12ee-4a79-b041-d5739b62d960",
   "metadata": {},
   "source": [
    "Q2. Differentiate between Abstraction and Encapsulation. Explain with an example.\n"
   ]
  },
  {
   "cell_type": "markdown",
   "id": "56084576-5020-4e60-9c0d-b342ed4691b2",
   "metadata": {},
   "source": [
    "\n",
    "1. **Abstraction**:\n",
    "   - Abstraction is the concept of hiding complex implementation details and showing only the necessary features of an object to the outside world.\n",
    "   - It focuses on \"what\" an object does rather than \"how\" it achieves it.\n",
    "   - Abstraction allows you to create a simplified view of an object, emphasizing only its essential characteristics.\n",
    "   - It is achieved through abstract classes and interfaces in OOP.\n",
    "\n",
    "2. **Encapsulation**:\n",
    "   - Encapsulation is the bundling of data and methods that operate on the data into a single unit, often referred to as a class.\n",
    "   - It hides the internal state of an object from the outside world and only exposes the necessary functionalities through well-defined interfaces (methods).\n",
    "   - Encapsulation helps in achieving data hiding and prevents external code from directly accessing an object's internal state.\n",
    "   - It provides better control over the access to the data and helps in maintaining the integrity of the data."
   ]
  },
  {
   "cell_type": "code",
   "execution_count": 2,
   "id": "8cf8b6ce-05ed-4fef-aa46-126cd2cb5492",
   "metadata": {},
   "outputs": [
    {
     "name": "stdout",
     "output_type": "stream",
     "text": [
      "Current speed: 20\n",
      "Current speed after braking: 10\n"
     ]
    }
   ],
   "source": [
    "class Car:\n",
    "    def __init__(self, make, model, year):\n",
    "        self.make = make      \n",
    "        self.model = model\n",
    "        self.year = year\n",
    "        self.speed = 0       \n",
    "    \n",
    "    def accelerate(self, increment):\n",
    "        self.speed += increment   \n",
    "    \n",
    "    def brake(self, decrement):\n",
    "        self.speed -= decrement   \n",
    "\n",
    "    def get_speed(self):\n",
    "        return self.speed    \n",
    "\n",
    "my_car = Car(\"Toyota\", \"Camry\", 2022)\n",
    "\n",
    "my_car.accelerate(20)\n",
    "print(\"Current speed:\", my_car.get_speed())\n",
    "my_car.brake(10)\n",
    "print(\"Current speed after braking:\", my_car.get_speed())"
   ]
  },
  {
   "cell_type": "markdown",
   "id": "5a5ec1d3-b610-416a-b24b-dfa217017ddd",
   "metadata": {},
   "source": [
    "Q3. What is abc module in python? Why is it used?\n"
   ]
  },
  {
   "cell_type": "markdown",
   "id": "5e65c3e8-6e3c-4432-bf22-d1266d692356",
   "metadata": {},
   "source": [
    "The abc module in Python stands for \"Abstract Base Classes.\" It provides infrastructure for defining abstract base classes (ABCs).An abstract \n",
    "base class is a kind of blueprint for other classes, defining a set of methods and properties that must be implemented by its subclasses."
   ]
  },
  {
   "cell_type": "markdown",
   "id": "a18d7a1a-639d-49b5-aeb4-de5f49d16c5f",
   "metadata": {},
   "source": [
    "the abc module is used to promote code reusability, maintainability, and to enforce a consistent structure in object-oriented programming by defining abstract base classes and ensuring method implementation in subclasses."
   ]
  },
  {
   "cell_type": "markdown",
   "id": "fc71c6b3-0bfc-40d5-aea5-44f57b8dac14",
   "metadata": {},
   "source": [
    "Q4. How can we achieve data abstraction?"
   ]
  },
  {
   "cell_type": "markdown",
   "id": "9e67190d-0507-416c-882b-9aefe5a0d85e",
   "metadata": {},
   "source": [
    "\n",
    "\n",
    "Data abstraction in OOP is achieved by encapsulating the complex details of data structures and operations, and presenting only the essential features to the user. This is done through the use of abstract classes and interfaces which define methods that can be implemented by concrete classes. The goal is to reduce complexity and increase reusability by separating the interface from the implementation.\n",
    "\n",
    "\n",
    "\n",
    "1. **Define Abstract Classes/Interfaces**: Create abstract classes or interfaces with abstract methods that outline the expected functionality without providing the implementation.\n",
    "\n",
    "2. **Implement Concrete Classes**: Subclasses implement these abstract methods, providing specific details hidden from the end-user.\n",
    "\n",
    "3. **Use Encapsulation**: Protect data by making class attributes private and providing public getter and setter methods to access the data.\n",
    "\n",
    "4. **Simplify Interaction**: Users interact with objects through their public methods, unaware of the underlying complex logic.\n",
    "\n",
    "\n"
   ]
  },
  {
   "cell_type": "markdown",
   "id": "ff404aca-941b-4bc1-8b13-b5c46504a9f5",
   "metadata": {},
   "source": [
    "Q5. Can we create an instance of an abstract class? Explain your answer."
   ]
  },
  {
   "cell_type": "code",
   "execution_count": null,
   "id": "09c48ea9-488f-49f7-8c95-fa3d8b04ca5b",
   "metadata": {},
   "outputs": [],
   "source": []
  }
 ],
 "metadata": {
  "kernelspec": {
   "display_name": "Python 3 (ipykernel)",
   "language": "python",
   "name": "python3"
  },
  "language_info": {
   "codemirror_mode": {
    "name": "ipython",
    "version": 3
   },
   "file_extension": ".py",
   "mimetype": "text/x-python",
   "name": "python",
   "nbconvert_exporter": "python",
   "pygments_lexer": "ipython3",
   "version": "3.10.8"
  }
 },
 "nbformat": 4,
 "nbformat_minor": 5
}
